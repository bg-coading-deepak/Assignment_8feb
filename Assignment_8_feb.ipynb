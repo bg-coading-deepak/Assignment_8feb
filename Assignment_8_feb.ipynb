{
 "cells": [
  {
   "cell_type": "markdown",
   "id": "7562200d",
   "metadata": {},
   "source": [
    "### Ques-No.1"
   ]
  },
  {
   "cell_type": "code",
   "execution_count": null,
   "id": "a8bbf9a6",
   "metadata": {},
   "outputs": [],
   "source": [
    "Abstraction is the process of hiding the internal details of an application from the outer world.\n",
    "Abstraction is used to describe things in simple terms.\n",
    "It is used to create a boundary between the application and the client programs."
   ]
  },
  {
   "cell_type": "code",
   "execution_count": 1,
   "id": "1cd08f8f",
   "metadata": {},
   "outputs": [],
   "source": [
    "Example:- \n",
    "    \n",
    "Another real-world example of an abstraction is getting dressed in the morning.\n",
    "You are able to quickly evaluate wardrobe needs and put together a corresponding outfit relatively simply.\n",
    "Perhaps you have a pants and jacket set that provides a simplified match"
   ]
  },
  {
   "cell_type": "markdown",
   "id": "05682d1a",
   "metadata": {},
   "source": [
    "### Ques-No.2"
   ]
  },
  {
   "cell_type": "code",
   "execution_count": null,
   "id": "201a5786",
   "metadata": {},
   "outputs": [],
   "source": [
    ">> Abstraction is hiding the details and implementation of the code.\n",
    ">> Encapsulation is hiding the data and controlling the visibility of the code\n",
    ">> Abstraction is a design level process.\n",
    ">> Encapsulation is an implementation level process."
   ]
  },
  {
   "cell_type": "code",
   "execution_count": null,
   "id": "ac96562c",
   "metadata": {},
   "outputs": [],
   "source": [
    "Example: \n",
    "    You can better understand Encapsulation vs Abstraction with an example.\n",
    "    Abstraction is used in mobile phones’ GUI. When you click on the icons,\n",
    "    abstraction allows them to perform specific functions.\n",
    "    Let’s look at the encapsulation example to clarify the Encapsulation vs Abstraction.\n",
    "    After the icon is clicked, the encapsulation works in the backend to guide the user on the next steps."
   ]
  },
  {
   "cell_type": "markdown",
   "id": "e5ca0df0",
   "metadata": {},
   "source": [
    "### Ques-No.3"
   ]
  },
  {
   "cell_type": "code",
   "execution_count": null,
   "id": "2e270c8b",
   "metadata": {},
   "outputs": [],
   "source": [
    "\n",
    "The 'abc' module in Python library provides the infrastructure for defining custom abstract base classes. 'abc' works by marking methods of the base class as abstract.\n",
    "This is done by @absttractmethod decorator\n",
    "\n",
    "To understand the need to declare a virtual subclass."
   ]
  },
  {
   "cell_type": "code",
   "execution_count": 4,
   "id": "e376a5fe",
   "metadata": {},
   "outputs": [
    {
     "data": {
      "text/plain": [
       "42"
      ]
     },
     "execution_count": 4,
     "metadata": {},
     "output_type": "execute_result"
    }
   ],
   "source": [
    "from abc import ABC, abstractmethod\n",
    "\n",
    "class shape(ABC):\n",
    "    @abstractmethod\n",
    "    \n",
    "    def printarea(self):\n",
    "        return 0\n",
    "\n",
    "class rectangle(shape):\n",
    "    type=\"rectangle\"\n",
    "    sides=4\n",
    "    \n",
    "    def __init__(self):\n",
    "        self.length=6\n",
    "        self.breadth=7\n",
    "    def printarea(self):\n",
    "        return self.length*self.breadth\n",
    "    \n",
    "rect1= rectangle()\n",
    "rect1.printarea()\n",
    "    \n",
    "    "
   ]
  },
  {
   "cell_type": "markdown",
   "id": "d579deea",
   "metadata": {},
   "source": [
    "### Ques-No.4"
   ]
  },
  {
   "cell_type": "code",
   "execution_count": null,
   "id": "83a2b4f8",
   "metadata": {},
   "outputs": [],
   "source": [
    "Data Abstraction in Python can be achieved through creating abstract classes and inheriting them later.\n",
    "Before discussing what abstract classes are, let us have a brief introduction of inheritance.\n",
    "Inheritance in OOP is a way through which one class inherits the attributes and methods of another class"
   ]
  },
  {
   "cell_type": "markdown",
   "id": "ed340ab5",
   "metadata": {},
   "source": [
    "### Ques-No.5"
   ]
  },
  {
   "cell_type": "code",
   "execution_count": null,
   "id": "5764fd10",
   "metadata": {},
   "outputs": [],
   "source": [
    "Abstract classes cannot be instantiated, but they can be subclassed.\n",
    "When an abstract class is subclassed, the subclass usually provides implementations for all of the abstract methods in its parent class.\n",
    "However,\n",
    "if it does not, then the subclass must also be declared abstract ."
   ]
  }
 ],
 "metadata": {
  "kernelspec": {
   "display_name": "Python 3 (ipykernel)",
   "language": "python",
   "name": "python3"
  },
  "language_info": {
   "codemirror_mode": {
    "name": "ipython",
    "version": 3
   },
   "file_extension": ".py",
   "mimetype": "text/x-python",
   "name": "python",
   "nbconvert_exporter": "python",
   "pygments_lexer": "ipython3",
   "version": "3.9.12"
  }
 },
 "nbformat": 4,
 "nbformat_minor": 5
}
